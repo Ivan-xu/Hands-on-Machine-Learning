{
 "cells": [
  {
   "cell_type": "code",
   "execution_count": 3,
   "metadata": {
    "ExecuteTime": {
     "end_time": "2019-04-09T05:54:43.490940Z",
     "start_time": "2019-04-09T05:54:43.453657Z"
    },
    "collapsed": true
   },
   "outputs": [],
   "source": [
    "# To support both python 2 and python 3\n",
    "from __future__ import division, print_function, unicode_literals\n",
    "\n",
    "# Common imports\n",
    "import numpy as np\n",
    "import os\n",
    "import tensorflow as tf\n",
    "# to make this notebook's output stable across runs\n",
    "def reset_graph(seed=42):\n",
    "    tf.reset_default_graph()\n",
    "    tf.set_random_seed(seed)\n",
    "    np.random.seed(seed)\n",
    "\n",
    "# To plot pretty figures\n",
    "%matplotlib inline\n",
    "import matplotlib\n",
    "import matplotlib.pyplot as plt\n",
    "plt.rcParams['axes.labelsize'] = 14\n",
    "plt.rcParams['xtick.labelsize'] = 12\n",
    "plt.rcParams['ytick.labelsize'] = 12\n",
    "\n",
    "# Where to save the figures\n",
    "PROJECT_ROOT_DIR = \"F:\\ML\\Machine learning\\Hands-on machine learning with scikit-learn and tensorflow\"\n",
    "PROJECT_ROOT_DIR =  os.getcwd()\n",
    "CHAPTER_ID = \"11_Training Deep Neural Nets\"\n",
    "\n",
    "def save_fig(fig_id, tight_layout=True):\n",
    "    path = os.path.join(PROJECT_ROOT_DIR, \"images\", CHAPTER_ID, fig_id + \".png\")\n",
    "    print(\"Saving figure\", fig_id)\n",
    "    if tight_layout:\n",
    "        plt.tight_layout()\n",
    "    plt.savefig(path, format='png', dpi=300)\n"
   ]
  },
  {
   "cell_type": "code",
   "execution_count": 28,
   "metadata": {
    "ExecuteTime": {
     "end_time": "2019-04-09T14:16:21.032590Z",
     "start_time": "2019-04-09T14:16:20.065273Z"
    }
   },
   "outputs": [],
   "source": [
    "reset_graph()\n",
    "\n",
    "n_inputs = 28 * 28  # MNIST\n",
    "n_hidden1 = 100\n",
    "n_hidden2 = 100\n",
    "n_hidden3 = 100\n",
    "n_hidden4 = 100\n",
    "n_hidden5 = 100\n",
    "n_outputs = 5\n",
    "\n",
    "X = tf.placeholder(tf.float32, shape=(None, n_inputs), name=\"X\")\n",
    "y = tf.placeholder(tf.int32, shape=(None), name=\"y\")\n",
    "#这个地方没明白\n",
    "he_init = tf.variance_scaling_initializer()\n",
    "activation=tf.nn.elu\n",
    "with tf.name_scope(\"dnn\"):\n",
    "    hidden1 = tf.layers.dense(X, n_hidden1, activation=activation, name=\"hidden1\",kernel_initializer= he_init )\n",
    "    hidden2 = tf.layers.dense(hidden1, n_hidden2, activation=activation, name=\"hidden2\",kernel_initializer=he_init)\n",
    "    hidden3 = tf.layers.dense(hidden2, n_hidden3, activation=activation, name=\"hidden3\",kernel_initializer=he_init)\n",
    "    hidden4 = tf.layers.dense(hidden3, n_hidden4, activation=activation, name=\"hidden4\",kernel_initializer=he_init)\n",
    "    hidden5 = tf.layers.dense(hidden4, n_hidden5, activation=activation, name=\"hidden5\",kernel_initializer=he_init)\n",
    "    logits = tf.layers.dense(hidden5, n_outputs, name=\"outputs\")\n",
    "# def dnn(inputs, n_hidden_layers=5, n_neurons=100, name=None,\n",
    "#         activation=tf.nn.elu, initializer=he_init):\n",
    "#     with tf.variable_scope(name, \"dnn\"):\n",
    "#         for layer in range(n_hidden_layers):\n",
    "#             inputs = tf.layers.dense(inputs, n_neurons, activation=activation,\n",
    "#                                      kernel_initializer=initializer,\n",
    "#                                      name=\"hidden%d\" % (layer + 1))\n",
    "#         return inputs\n",
    "# dnn_outputs = dnn(X)\n",
    "# logits = tf.layers.dense(dnn_outputs, n_outputs, kernel_initializer=he_init, name=\"logits\")\n",
    "    \n",
    "with tf.name_scope(\"loss\"):\n",
    "    xentropy = tf.nn.sparse_softmax_cross_entropy_with_logits(labels=y, logits=logits)\n",
    "    loss = tf.reduce_mean(xentropy, name=\"loss\")\n",
    "\n",
    "learning_rate = 0.01\n",
    "\n",
    "with tf.name_scope(\"train\"):\n",
    "    optimizer =  tf.train.AdamOptimizer(learning_rate)\n",
    "    training_op = optimizer.minimize(loss)\n",
    "\n",
    "with tf.name_scope(\"eval\"):\n",
    "    correct = tf.nn.in_top_k(logits, y, 1)\n",
    "    accuracy = tf.reduce_mean(tf.cast(correct, tf.float32),name = 'accuracy')\n",
    "\n",
    "init = tf.global_variables_initializer()\n",
    "saver = tf.train.Saver()\n",
    "n_epochs = 1000\n",
    "batch_size = 20"
   ]
  },
  {
   "cell_type": "code",
   "execution_count": 29,
   "metadata": {
    "ExecuteTime": {
     "end_time": "2019-04-09T14:16:22.916527Z",
     "start_time": "2019-04-09T14:16:21.674011Z"
    },
    "collapsed": true
   },
   "outputs": [],
   "source": [
    "# 下载数据：\n",
    "(X_train, y_train), (X_test, y_test) = tf.keras.datasets.mnist.load_data()\n",
    "X_train = X_train.astype(np.float32).reshape(-1, 28*28) / 255.0\n",
    "X_test = X_test.astype(np.float32).reshape(-1, 28*28) / 255.0\n",
    "y_train = y_train.astype(np.int32)\n",
    "y_test = y_test.astype(np.int32)\n",
    "X_valid, X_train = X_train[:5000], X_train[5000:]\n",
    "y_valid, y_train = y_train[:5000], y_train[5000:]\n",
    "\n",
    "\n",
    "X_train1 = X_train[y_train < 5]\n",
    "y_train1 = y_train[y_train < 5]\n",
    "X_valid1 = X_valid[y_valid < 5]\n",
    "y_valid1 = y_valid[y_valid < 5]\n",
    "X_test1 = X_test[y_test < 5]\n",
    "y_test1 = y_test[y_test < 5]\n"
   ]
  },
  {
   "cell_type": "code",
   "execution_count": 30,
   "metadata": {
    "ExecuteTime": {
     "end_time": "2019-04-09T14:17:53.125423Z",
     "start_time": "2019-04-09T14:16:22.920453Z"
    }
   },
   "outputs": [
    {
     "name": "stdout",
     "output_type": "stream",
     "text": [
      "0\tValidation loss: 0.158328\tBest loss: 0.158328\tAccuracy: 96.91%\n",
      "1\tValidation loss: 0.115867\tBest loss: 0.115867\tAccuracy: 97.58%\n",
      "2\tValidation loss: 0.079341\tBest loss: 0.079341\tAccuracy: 98.24%\n",
      "3\tValidation loss: 0.067289\tBest loss: 0.067289\tAccuracy: 98.16%\n",
      "4\tValidation loss: 0.568616\tBest loss: 0.067289\tAccuracy: 81.86%\n",
      "5\tValidation loss: 0.115313\tBest loss: 0.067289\tAccuracy: 96.91%\n",
      "6\tValidation loss: 0.287698\tBest loss: 0.067289\tAccuracy: 92.06%\n",
      "7\tValidation loss: 0.308450\tBest loss: 0.067289\tAccuracy: 94.80%\n",
      "8\tValidation loss: 0.420121\tBest loss: 0.067289\tAccuracy: 96.60%\n",
      "9\tValidation loss: 0.299701\tBest loss: 0.067289\tAccuracy: 97.22%\n",
      "10\tValidation loss: 0.245446\tBest loss: 0.067289\tAccuracy: 96.52%\n",
      "11\tValidation loss: 1.593604\tBest loss: 0.067289\tAccuracy: 62.04%\n",
      "12\tValidation loss: 0.340582\tBest loss: 0.067289\tAccuracy: 94.64%\n",
      "13\tValidation loss: 1.179280\tBest loss: 0.067289\tAccuracy: 62.55%\n",
      "14\tValidation loss: 0.233367\tBest loss: 0.067289\tAccuracy: 96.29%\n",
      "15\tValidation loss: 0.278914\tBest loss: 0.067289\tAccuracy: 97.19%\n",
      "16\tValidation loss: 0.207911\tBest loss: 0.067289\tAccuracy: 97.77%\n",
      "17\tValidation loss: 0.205768\tBest loss: 0.067289\tAccuracy: 97.22%\n",
      "18\tValidation loss: 0.416854\tBest loss: 0.067289\tAccuracy: 96.17%\n",
      "19\tValidation loss: 0.523644\tBest loss: 0.067289\tAccuracy: 84.21%\n",
      "20\tValidation loss: 1.681317\tBest loss: 0.067289\tAccuracy: 19.47%\n",
      "21\tValidation loss: 1.654928\tBest loss: 0.067289\tAccuracy: 22.01%\n",
      "22\tValidation loss: 1.635367\tBest loss: 0.067289\tAccuracy: 19.27%\n",
      "early stop\n"
     ]
    }
   ],
   "source": [
    "def shuffle_batch(X, y, batch_size):\n",
    "    rnd_idx = np.random.permutation(len(X))\n",
    "    n_batches = len(X) // batch_size\n",
    "    for batch_idx in np.array_split(rnd_idx, n_batches):\n",
    "        X_batch, y_batch = X[batch_idx], y[batch_idx]\n",
    "        yield X_batch, y_batch\n",
    "        \n",
    "best_loss = np.infty\n",
    "max_continue_steps = 20\n",
    "check_continue_steps =0\n",
    "best_epoch =np.infty\n",
    "with tf.Session() as sess:\n",
    "    init.run()\n",
    "    for epoch in range(n_epochs):\n",
    "        for X_batch, y_batch in shuffle_batch(X_train1, y_train1, batch_size):\n",
    "            sess.run(training_op, feed_dict={X: X_batch, y: y_batch})\n",
    "        #early stop\n",
    "        loss_val,acc_val = sess.run([loss,accuracy],feed_dict={X:X_valid1,y:y_valid1})\n",
    "        if loss_val< best_loss:\n",
    "            best_loss = loss_val\n",
    "            best_epoch = epoch\n",
    "            check_continue_steps =0\n",
    "            saver.save(sess,\"./ch11-exercise_model_0_to_4.ckpt\")\n",
    "            \n",
    "        else :\n",
    "            check_continue_steps+=1\n",
    "            if check_continue_steps >= max_continue_steps:\n",
    "                print(\"early stop\")\n",
    "                break \n",
    "                \n",
    "        accuracy_val = accuracy.eval(feed_dict={X: X_valid1, y: y_valid1})\n",
    "        print(\"{}\\tValidation loss: {:.6f}\\tBest loss: {:.6f}\\tAccuracy: {:.2f}%\".format(\n",
    "            epoch, loss_val, best_loss, acc_val * 100))\n",
    "\n"
   ]
  },
  {
   "cell_type": "code",
   "execution_count": 31,
   "metadata": {
    "ExecuteTime": {
     "end_time": "2019-04-09T14:17:53.363047Z",
     "start_time": "2019-04-09T14:17:53.130880Z"
    }
   },
   "outputs": [
    {
     "name": "stdout",
     "output_type": "stream",
     "text": [
      "INFO:tensorflow:Restoring parameters from ./ch11-exercise_model_0_to_4.ckpt\n",
      "Final test accuracy: 98.40% best_epoch:3\n"
     ]
    }
   ],
   "source": [
    "with tf.Session() as sess:\n",
    "    saver.restore(sess, \"./ch11-exercise_model_0_to_4.ckpt\")\n",
    "    acc_test = accuracy.eval(feed_dict={X: X_test1, y: y_test1})\n",
    "    print(\"Final test accuracy: {:.2f}% best_epoch:{:}\".format(acc_test * 100 ,best_epoch))"
   ]
  }
 ],
 "metadata": {
  "kernelspec": {
   "display_name": "Python 3",
   "language": "python",
   "name": "python3"
  },
  "language_info": {
   "codemirror_mode": {
    "name": "ipython",
    "version": 3
   },
   "file_extension": ".py",
   "mimetype": "text/x-python",
   "name": "python",
   "nbconvert_exporter": "python",
   "pygments_lexer": "ipython3",
   "version": "3.6.2"
  }
 },
 "nbformat": 4,
 "nbformat_minor": 2
}
