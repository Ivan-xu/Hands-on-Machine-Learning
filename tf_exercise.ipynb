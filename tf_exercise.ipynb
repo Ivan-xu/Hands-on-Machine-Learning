{
 "cells": [
  {
   "cell_type": "code",
   "execution_count": 2,
   "metadata": {
    "ExecuteTime": {
     "end_time": "2019-03-23T04:28:33.587574Z",
     "start_time": "2019-03-23T04:28:33.528683Z"
    }
   },
   "outputs": [
    {
     "data": {
      "text/plain": [
       "'1.6.0'"
      ]
     },
     "execution_count": 2,
     "metadata": {},
     "output_type": "execute_result"
    }
   ],
   "source": [
    "import tensorflow as tf\n",
    "import numpy as np\n",
    "from sklearn.datasets import fetch_california_housing\n",
    "# 更改为每行输出\n",
    "from IPython.core.interactiveshell import InteractiveShell\n",
    "InteractiveShell.ast_node_interactivity = \"all\" \n",
    "\n",
    "import numpy as np\n",
    "def logprint(key,msg=None):\n",
    "    type_key = type(key)\n",
    "    if type_key ==str:\n",
    "        shape = len(key)\n",
    "    elif type_key ==np.ndarray:\n",
    "        shape =key.shape\n",
    "    else:\n",
    "        shape =None\n",
    "    if shape !=None:\n",
    "        print((\"logprint\\tmsg:\"+str(msg)+\"\\ttype:\"+str(type(key))+\"\\tshape:\"+str(shape)))\n",
    "    else:\n",
    "        print((\"logprint\\tmsg:\"+str(msg)+\"\\ttype:\"+str(type(key))))\n",
    "    print(key)\n",
    "tf.__version__"
   ]
  },
  {
   "cell_type": "code",
   "execution_count": 8,
   "metadata": {
    "ExecuteTime": {
     "end_time": "2019-03-07T14:00:06.607886Z",
     "start_time": "2019-03-07T14:00:06.588900Z"
    }
   },
   "outputs": [],
   "source": [
    "state = tf.Variable(0,name = 'counter')\n",
    "one = tf.constant(1)\n",
    "new_value = tf.add(state,one)\n",
    "update = tf.assign(state,new_value)\n",
    "init = tf.initialize_all_variables()"
   ]
  },
  {
   "cell_type": "code",
   "execution_count": 18,
   "metadata": {
    "ExecuteTime": {
     "end_time": "2019-03-07T14:08:09.184529Z",
     "start_time": "2019-03-07T14:08:09.150550Z"
    }
   },
   "outputs": [
    {
     "name": "stdout",
     "output_type": "stream",
     "text": [
      "0\n",
      "2\n",
      "1\n",
      "3\n",
      "2\n",
      "4\n",
      "3\n"
     ]
    }
   ],
   "source": [
    "with tf.Session() as sess:\n",
    "    sess.run(init)\n",
    "#     print(sess.run(new_value))\n",
    "    print((sess.run(state)))\n",
    "    for _ in range(3):\n",
    "        sess.run(update)\n",
    "        print(sess.run(new_value))\n",
    "        print((sess.run(state)))"
   ]
  },
  {
   "cell_type": "markdown",
   "metadata": {
    "ExecuteTime": {
     "end_time": "2019-03-16T07:52:42.501662Z",
     "start_time": "2019-03-16T07:52:42.470722Z"
    }
   },
   "source": [
    "TensorFlow操作（也简称为**ops**）可以接受任意数量的输入和产生任意数量的输出。例如，\n",
    "* 加法和乘法运算每个都需要两个输入并产生一个输出。\n",
    "* 常量和变量不需要输入（它们被称为**源操作**）。\n",
    "* 输入和输出是多维数组，称为**张量**（因此称为“张量流”）。\n",
    "\n",
    "就像NumPy数组一样，张量具有类型和形状。实际上，**在Python API中，张量只是由NumPy ndarrays表示**。它们通常包含浮点数，但你也可以使用它们来携带字符串（任意字节数组）。\n",
    "\n",
    "在到目前为止的示例中，张量只包含一个标量值，但你当然可以对任何形状的数组执行计算。例如，以下代码操作2D数组以对California住房数据集执行**线性回归**（在第2章中介绍）。\n",
    "\n",
    "* 它首先获取数据集;\n",
    "* 然后它为所有训练实例添加了一个**额外的偏置输入特征**($x_0 = 1$)（它使用NumPy这样做，因此它立即运行）;\n",
    "* 最后它创建两个TensorFlow常量节点 X 和 y 来保存这些数据和目标，它使用TensorFlow提供的一些矩阵运算来定义**theta**。\n",
    "\n",
    "这些矩阵函数—**transpose()，matmul()和matrix_inverse()** —是一目了然的，但通常它们不会立即执行任何计算;相反，\n",
    "* 他们在图表中创建节点，在运行图表时执行它们。你可以认识到 $θ$ 的定义对应于法线方程($θ= X^T·X^{-1}·X^T·y $；见第4章)。\n",
    "* 最后，代码创建一个会话并使用它来评估**theta**"
   ]
  },
  {
   "cell_type": "code",
   "execution_count": 22,
   "metadata": {
    "ExecuteTime": {
     "end_time": "2019-03-16T08:04:21.926803Z",
     "start_time": "2019-03-16T08:04:21.873903Z"
    }
   },
   "outputs": [],
   "source": [
    "# reset_graph()\n",
    "housing = fetch_california_housing()\n",
    "m, n = housing.data.shape\n",
    "housing_data_plus_bias = np.c_[np.ones((m, 1)), housing.data]\n",
    "x = tf.constant(housing_data_plus_bias,dtype= tf.float32,name= 'X')\n",
    "y = tf.constant(housing.target.reshape(-1, 1), dtype=tf.float32, name=\"y\") \n",
    "XT = tf.transpose(x)\n",
    "theta = tf.matmul(tf.matmul(tf.matrix_inverse(tf.matmul(x,x,transpose_a=True)),x,transpose_b=True),y)"
   ]
  },
  {
   "cell_type": "code",
   "execution_count": 20,
   "metadata": {
    "ExecuteTime": {
     "end_time": "2019-03-16T08:03:44.422052Z",
     "start_time": "2019-03-16T08:03:44.367156Z"
    }
   },
   "outputs": [
    {
     "data": {
      "text/plain": [
       "array([[-3.7185181e+01],\n",
       "       [ 4.3633747e-01],\n",
       "       [ 9.3952334e-03],\n",
       "       [-1.0711310e-01],\n",
       "       [ 6.4479220e-01],\n",
       "       [-4.0338000e-06],\n",
       "       [-3.7813708e-03],\n",
       "       [-4.2348403e-01],\n",
       "       [-4.3721911e-01]], dtype=float32)"
      ]
     },
     "execution_count": 20,
     "metadata": {},
     "output_type": "execute_result"
    }
   ],
   "source": [
    "with tf.Session() as sess:\n",
    "    theta_value = theta.eval()\n",
    "theta_value"
   ]
  },
  {
   "cell_type": "markdown",
   "metadata": {},
   "source": [
    "使用优化器"
   ]
  },
  {
   "cell_type": "code",
   "execution_count": 30,
   "metadata": {
    "ExecuteTime": {
     "end_time": "2019-03-16T10:08:39.863228Z",
     "start_time": "2019-03-16T10:08:39.161565Z"
    }
   },
   "outputs": [
    {
     "name": "stdout",
     "output_type": "stream",
     "text": [
      "Epoch 0 MSE = 2.7544262\n",
      "Epoch 100 MSE = 0.52731586\n",
      "Epoch 200 MSE = 0.52441466\n",
      "Epoch 300 MSE = 0.52432835\n",
      "Epoch 400 MSE = 0.5243219\n",
      "Epoch 500 MSE = 0.524321\n",
      "Epoch 600 MSE = 0.52432066\n",
      "Epoch 700 MSE = 0.524321\n",
      "Epoch 800 MSE = 0.52432126\n",
      "Epoch 900 MSE = 0.524321\n"
     ]
    }
   ],
   "source": [
    "\n",
    "from IPython.core.interactiveshell import InteractiveShell\n",
    "InteractiveShell.ast_node_interactivity = \"last_expr\" \n",
    "\n",
    "from sklearn.preprocessing import StandardScaler\n",
    "scaler = StandardScaler()\n",
    "scaled_housing_data = scaler.fit_transform(housing.data)\n",
    "scaled_housing_data_plus_bias = np.c_[np.ones((m, 1)), scaled_housing_data]\n",
    "# reset_graph()\n",
    "n_epochs = 1000\n",
    "learning_rate = 0.01\n",
    "\n",
    "X = tf.constant(scaled_housing_data_plus_bias, dtype=tf.float32, name=\"X\")\n",
    "y = tf.constant(housing.target.reshape(-1, 1), dtype=tf.float32, name=\"y\")\n",
    "theta = tf.Variable(tf.random_uniform([n + 1, 1], -1.0, 1.0, seed=42), name=\"theta\")\n",
    "y_pred = tf.matmul(X, theta, name=\"predictions\")\n",
    "error = y_pred - y\n",
    "mse = tf.reduce_mean(tf.square(error), name=\"mse\")\n",
    "##########################################################\n",
    "##手动计算梯度\n",
    "# gradients = 2/m * tf.matmul(tf.transpose(X), error)\n",
    "\n",
    "\n",
    "# training_op = tf.assign(theta, theta - learning_rate * gradients)\n",
    "##########################################################\n",
    "##########################################################\n",
    "# optimizer = tf.train.GradientDescentOptimizer(learning_rate=learning_rate)\n",
    "\n",
    "optimizer = tf.train.MomentumOptimizer(learning_rate =learning_rate,momentum =0.9)\n",
    "training_op = optimizer.minimize(mse)\n",
    "##########################################################\n",
    "init = tf.global_variables_initializer()\n",
    "\n",
    "with tf.Session() as sess:\n",
    "    sess.run(init)\n",
    "\n",
    "    for epoch in range(n_epochs):\n",
    "        if epoch % 100 == 0:# 每100次迭代打印出当前的均方误差（mse）\n",
    "            print(\"Epoch\", epoch, \"MSE =\", mse.eval())\n",
    "        sess.run(training_op)\n",
    "    \n",
    "    best_theta = theta.eval()\n",
    "    "
   ]
  },
  {
   "cell_type": "code",
   "execution_count": 2,
   "metadata": {
    "ExecuteTime": {
     "end_time": "2019-03-28T14:29:47.959790Z",
     "start_time": "2019-03-28T14:29:41.037074Z"
    }
   },
   "outputs": [
    {
     "name": "stderr",
     "output_type": "stream",
     "text": [
      "C:\\Users\\persp\\Anaconda3\\envs\\tensorflow\\lib\\site-packages\\h5py\\__init__.py:36: FutureWarning: Conversion of the second argument of issubdtype from `float` to `np.floating` is deprecated. In future, it will be treated as `np.float64 == np.dtype(float).type`.\n",
      "  from ._conv import register_converters as _register_converters\n"
     ]
    },
    {
     "name": "stdout",
     "output_type": "stream",
     "text": [
      "[[0.8 0.4 0.5 0.6]\n",
      " [0.1 0.9 0.2 0.4]\n",
      " [0.1 0.9 0.4 0.2]]\n",
      "[1 1 2]\n",
      "[False  True  True]\n"
     ]
    }
   ],
   "source": [
    "import tensorflow as tf\n",
    "A = tf.Variable([[0.8, 0.4, 0.5, 0.6],[0.1, 0.9, 0.2, 0.4],[0.1, 0.9, 0.4, 0.2]])\n",
    "B = tf.Variable([1, 1, 2])\n",
    "result = tf.nn.in_top_k(A, B, 2)\n",
    "with tf.Session() as sess:\n",
    "    sess.run(tf.global_variables_initializer())\n",
    "    print(sess.run(A))\n",
    "    print(sess.run(B))\n",
    "    print(sess.run(result))\n",
    "#   k=1 [False True False]\n",
    "#   k=2 [False True True]"
   ]
  },
  {
   "cell_type": "markdown",
   "metadata": {
    "ExecuteTime": {
     "end_time": "2019-03-07T14:12:33.927239Z",
     "start_time": "2019-03-07T14:12:33.918243Z"
    }
   },
   "source": [
    "placeholder"
   ]
  }
 ],
 "metadata": {
  "kernelspec": {
   "display_name": "Python 3",
   "language": "python",
   "name": "python3"
  },
  "language_info": {
   "codemirror_mode": {
    "name": "ipython",
    "version": 3
   },
   "file_extension": ".py",
   "mimetype": "text/x-python",
   "name": "python",
   "nbconvert_exporter": "python",
   "pygments_lexer": "ipython3",
   "version": "3.5.5"
  }
 },
 "nbformat": 4,
 "nbformat_minor": 2
}
